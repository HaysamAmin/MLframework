{
 "cells": [
  {
   "cell_type": "markdown",
   "id": "8bc30cf2",
   "metadata": {},
   "source": [
    "### Practical Lab 2: Multivariate Linear Regression, Non-Parametric Models and Cross-Validation\n",
    "\n",
    "| Student Name  | Student ID | Methodology                |\n",
    "|---------------|------------|----------------------------|\n",
    "| Haysam Elamin | 8953681    | Machine Learning Workflow  |\n",
    "\n",
    "---\n",
    "\n",
    "### Framing the Problem\n",
    "\n",
    "**Objective:**  \n",
    "Build a model that can best predict the risk of diabetes progression. This will be used as a screening tool to help physicians with identifying patients at risk. \n",
    "\n",
    "\n",
    "**Approach:**  \n",
    "The models that we look into are:\n",
    "1. **Univariate polynomial regression models**\n",
    "2. **Multivariate Polynomial models**\n",
    "3. **Decision Trees**\n",
    "4. **kNNs**\n",
    "**Model evaluation:** the models will be evaluated using R-squared, Mean Absolute Percentage Error (MAPE) and Mean Absolute Error (MAE) metrics. To do that we will run a train-validation-test split.:\n",
    "\n",
    "\n",
    "---\n",
    "\n",
    "### 1. Introduction\n",
    "\n",
    "Using the Scikit-Learn Diabetes dataset. The dataset contains medical records for 442 patients, including 10 numerical features such as BMI, blood pressure, and cholesterol levels, along with a target variable that reflects disease severity.\n",
    "\n",
    "**Reference** \n",
    "\n",
    "[1] DataSet: Scikit-Learn Diabetes dataset\n",
    "\n",
    "[2] Class note  and materials  \n",
    "\n",
    "[3] Some codes were modified using Copilot\n"
   ]
  },
  {
   "cell_type": "code",
   "execution_count": null,
   "id": "ab7809c0",
   "metadata": {},
   "outputs": [],
   "source": [
    "from sklearn.datasets import load_diabetes\n",
    "\n",
    "# Load the diabetes dataset as a pandas DataFrame with standardized features\n",
    "data = load_diabetes(as_frame=True, scaled=True)\n",
    "\n",
    "# Extract the features (10 medical measurements) into X\n",
    "X = data['data']  # X is a DataFrame where each column is a feature like BMI, blood pressure, etc.\n",
    "\n",
    "# Extract the target variable (disease progression score) into y\n",
    "y = data['target']  # y is a Series representing disease progression one year after baseline"
   ]
  }
 ],
 "metadata": {
  "language_info": {
   "name": "python"
  }
 },
 "nbformat": 4,
 "nbformat_minor": 5
}
